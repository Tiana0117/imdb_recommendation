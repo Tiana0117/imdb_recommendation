{
 "cells": [
  {
   "cell_type": "markdown",
   "id": "2ff9ac40",
   "metadata": {},
   "source": [
    "# Movie/TV Shows Sharing Actors with Your Favorite Movie/Show"
   ]
  },
  {
   "cell_type": "markdown",
   "id": "790042a4",
   "metadata": {},
   "source": [
    "In this blog post, I’m going to make a super cool web scraper. \n",
    "\n",
    "Here’s a link to my project repository. https://github.com/Tiana0117/imdb_recommendation \n",
    "\n",
    "Here’s how we set up the project. We will go through it step by step."
   ]
  },
  {
   "cell_type": "markdown",
   "id": "4dfa8ba1",
   "metadata": {},
   "source": [
    "## Set Up\n",
    "First, we need to locate the IMDB pages for future implementation."
   ]
  },
  {
   "cell_type": "markdown",
   "id": "2dbf7004",
   "metadata": {},
   "source": [
    "* **Step 1**: Pick your favorite movie or TV show\n",
    "* **Step 2**: Locate its IMDB page. \n",
    "In my case, I picked my favorite TV show as *Avengers: Endgame*. Its IMDB page is at: https://www.imdb.com/title/tt4154796/\n",
    "* **Step 3**: Click on the Cast & Crew link. This will take you to a page with URL of the form: `<original_url>fullcredits/`\n",
    "* **Step 4**: Scroll until you see the Series Cast section. Click on the portrait of one of the actors. This will take you to a page with a different-looking URL. My favorite actor is Robert Downey Jr. , and his URL is https://www.imdb.com/name/nm0000375/\n",
    "* **Step 5**: Once reaching the actor page, scroll down until you see the actor’s Filmography section. Note the titles of a few movies and TV shows in this section."
   ]
  },
  {
   "cell_type": "markdown",
   "id": "d51c6c58",
   "metadata": {},
   "source": [
    "Above, we have locate several IMDB pages. And in the following section, we are going to use web scraper to mimic this process.\n",
    "> Start with your favorite movie or TV show\n",
    "\n",
    "> Look at all the actors in that movie or TV show \n",
    "\n",
    "> Log all the other movies or TV shows that they worked on"
   ]
  },
  {
   "cell_type": "markdown",
   "id": "5242b865",
   "metadata": {},
   "source": [
    "## Initialize Project\n",
    "Open a terminal in the location of your repository on your laptop, and type:"
   ]
  },
  {
   "cell_type": "code",
   "execution_count": null,
   "id": "648ae700",
   "metadata": {},
   "outputs": [],
   "source": [
    "conda activate PIC16B\n",
    "scrapy startproject IMDB_scraper\n",
    "cd IMDB_scraper"
   ]
  },
  {
   "cell_type": "markdown",
   "id": "a6364137",
   "metadata": {},
   "source": [
    "Then, add the following line to the file `settings.py`:"
   ]
  },
  {
   "cell_type": "code",
   "execution_count": null,
   "id": "2f45cbfd",
   "metadata": {},
   "outputs": [],
   "source": [
    "CLOSESPIDER_PAGECOUNT = 20"
   ]
  },
  {
   "cell_type": "markdown",
   "id": "5d4e2dab",
   "metadata": {},
   "source": [
    "This line just prevents your scraper from downloading too much data while you’re still testing things out. You’ll remove this line later."
   ]
  },
  {
   "cell_type": "markdown",
   "id": "62cc14a3",
   "metadata": {},
   "source": [
    "Create a file inside the `spiders` directory called `imdb_spider.py`. Add the following lines to the file:"
   ]
  },
  {
   "cell_type": "code",
   "execution_count": null,
   "id": "cdb5095d",
   "metadata": {},
   "outputs": [],
   "source": [
    "# to run \n",
    "# scrapy crawl imdb_spider -o movies.csv\n",
    "\n",
    "import scrapy\n",
    "from scrapy.spiders import Spider\n",
    "from scrapy.http import Request\n",
    "from scrapy.linkextractors import LinkExtractor\n",
    "from re import search\n",
    "\n",
    "class ImdbSpider(scrapy.Spider):\n",
    "    name = 'imdb_spider'\n",
    "    \n",
    "    start_urls = ['https://www.imdb.com/title/tt4154796/']"
   ]
  },
  {
   "cell_type": "markdown",
   "id": "3cf6a6a4",
   "metadata": {},
   "source": [
    "Replace the entry of `start_urls` with the URL corresponding to your favorite movie or TV show.\n",
    "\n",
    "Now, implement three parsing methods for the `ImdbSpider` class.\n",
    "\n",
    "**Navigate to the Cast & Crew Page:**\n",
    "\n",
    "The first parse method is `parse(self,response)`. \n",
    "* This method assumes that you start on a movie page, and then navigate to the Cast & Crew page. Cast & Crew page has url <movie_url>fullcredits. \n",
    "* Once there, the `parse_full_credits(self,response)` should be called, by specifying this method in the `callback` argument to a yielded `scrapy.Request`. \n",
    "* The `parse()` method does not return any data."
   ]
  },
  {
   "cell_type": "code",
   "execution_count": null,
   "id": "39eeef9a",
   "metadata": {},
   "outputs": [],
   "source": [
    "def parse(self,response):\n",
    "    \"\"\"\n",
    "    This method is to navigate from the starting movie page to the Cast & Crew Page.\n",
    "    The Cast & Crew Page has the url of <movie_url>fullcredits.\n",
    "    Once there, the method parse_full_credits(self,response) is called.\n",
    "\n",
    "    \"\"\"\n",
    "    # get part of the url address specifying the specific actor\n",
    "    actor_suffix = [a.attrib[\"href\"] for a in response.css(\"td.primary_photo a\")]\n",
    "    prefix = \"https://www.imdb.com/\"\n",
    "        \n",
    "    # the full url is prefix + actor-specified id\n",
    "    actor_url = [prefix + suffix for suffix in actor_suffix]\n",
    "        \n",
    "    # yield the actor_url, and call the parse_actor_page(self,response)\n",
    "    for actor in actor_url:\n",
    "\n",
    "        yield Request(actor, callback = self.parse_actor_page)"
   ]
  },
  {
   "cell_type": "markdown",
   "id": "465d8dc4",
   "metadata": {},
   "source": [
    "**Navigate to the actor page:**\n",
    "\n",
    "Then, we define the parsing method `parse_full_credits(self, response)`. \n",
    "* `parse_full_credits(self, response)` assumes that you start on the Cast & Crew page. \n",
    "* Its purpose is to yield a `scrapy.Request` for the page of each actor listed on the page. Crew members are not included. \n",
    "* Once the actor's page is reached, the yielded request specify the method `parse_actor_page(self, response)` being called. \n",
    "* The `parse_full_credits()` method does not return any data. "
   ]
  },
  {
   "cell_type": "code",
   "execution_count": null,
   "id": "d1fbe123",
   "metadata": {},
   "outputs": [],
   "source": [
    "def parse_full_credits(self, response):\n",
    "   \"\"\"\n",
    "    This method is to yield a dictionary with actor_names and movie_or_TV names as values.\n",
    "    The dictionary has each of the movies or TV shows on which that actor has worked.\n",
    "    \"\"\"\n",
    "\n",
    "    # get the actor name\n",
    "    actor_name = response.css(\"span.itemprop::text\").get()\n",
    "        \n",
    "    # get the movie_or_TV_name\n",
    "    for movie in response.css(\"div.filmo-row\"):\n",
    "        movie_or_TV_name = [movie.css(\"a::text\").get()]\n",
    "        \n",
    "        # yield the dictionary\n",
    "        yield {\n",
    "            \"actor\" : actor_name, \n",
    "            \"movie_or_TV_name\" : movie_or_TV_name\n",
    "        }        "
   ]
  },
  {
   "cell_type": "markdown",
   "id": "4ead503f",
   "metadata": {},
   "source": [
    "**Yield a dictionary with the actor name and the movie or TV show name:**\n",
    "\n",
    "Then we come to the last parsing method. \n",
    "* `parse_actor_page(self, response)` assumes that you start on the page of an actor. \n",
    "* It yields a dictionary with two key-value pairs, of the form `{\"actor\" : actor_name, \"movie_or_TV_name\" : movie_or_TV_name}`. \n",
    "* The method should yield one such dictionary for each of the movies or TV shows on which that actor has worked. Note that you will need to determine both the name of the actor and the name of each movie or TV show. "
   ]
  },
  {
   "cell_type": "markdown",
   "id": "303a11b0",
   "metadata": {},
   "source": [
    "After the above three parsing methods being implemented, run the command in the terminal."
   ]
  },
  {
   "cell_type": "code",
   "execution_count": null,
   "id": "76980ff1",
   "metadata": {},
   "outputs": [],
   "source": [
    "scrapy crawl imdb_spider -o results.csv"
   ]
  },
  {
   "cell_type": "markdown",
   "id": "b17bab61",
   "metadata": {},
   "source": [
    "## Make Recommendations\n",
    "\n",
    "In this section, we want to make recommendations based on the number of shared actors. To present movies and the number of shared actors with our favortie movie/TV shows, I used `dataframe` and `scatterplot`."
   ]
  },
  {
   "cell_type": "markdown",
   "id": "13432aed",
   "metadata": {},
   "source": [
    "Once you have successfully tested your `imdb_spider.py` file, you should have a csv file generated in the same directory of your file. Then, comment out the following line in the `settings.py` file."
   ]
  },
  {
   "cell_type": "code",
   "execution_count": null,
   "id": "2a392c00",
   "metadata": {},
   "outputs": [],
   "source": [
    "CLOSESPIDER_PAGECOUNT = 20"
   ]
  },
  {
   "cell_type": "markdown",
   "id": "e85eb00e",
   "metadata": {},
   "source": [
    "Then, run the command below. Before running this command, delete the csv file generated before in case of overwriting erros."
   ]
  },
  {
   "cell_type": "code",
   "execution_count": null,
   "id": "f141cc7a",
   "metadata": {},
   "outputs": [],
   "source": [
    "scrapy crawl imdb_spider -o results.csv"
   ]
  },
  {
   "cell_type": "markdown",
   "id": "71994f3b",
   "metadata": {},
   "source": [
    "Now you get a csv file called `results.csv`, with columns for actor names and the movies and TV shows on which they worked."
   ]
  },
  {
   "cell_type": "markdown",
   "id": "0d5be03f",
   "metadata": {},
   "source": [
    "Then, we want to make recommendations based on this csv. We compute a sorted list with the top movies and TV shows that share actors with your favorite movie or TV show. "
   ]
  },
  {
   "cell_type": "code",
   "execution_count": 1,
   "id": "a2bf7b77",
   "metadata": {},
   "outputs": [],
   "source": [
    "# import necessary library\n",
    "import pandas as pd"
   ]
  },
  {
   "cell_type": "markdown",
   "id": "4416fabd",
   "metadata": {},
   "source": [
    "We first read the csv file into our jupyter notebook."
   ]
  },
  {
   "cell_type": "code",
   "execution_count": 4,
   "id": "860a256c",
   "metadata": {},
   "outputs": [],
   "source": [
    "# read csv as dataframe\n",
    "result = pd.read_csv(\"/Users/yiningliang/PIC16B Gitthub/imdb_recommendation/IMDB_scraper/python and csv/results.csv\")"
   ]
  },
  {
   "cell_type": "code",
   "execution_count": 5,
   "id": "f624034e",
   "metadata": {},
   "outputs": [
    {
     "data": {
      "text/html": [
       "<div>\n",
       "<style scoped>\n",
       "    .dataframe tbody tr th:only-of-type {\n",
       "        vertical-align: middle;\n",
       "    }\n",
       "\n",
       "    .dataframe tbody tr th {\n",
       "        vertical-align: top;\n",
       "    }\n",
       "\n",
       "    .dataframe thead th {\n",
       "        text-align: right;\n",
       "    }\n",
       "</style>\n",
       "<table border=\"1\" class=\"dataframe\">\n",
       "  <thead>\n",
       "    <tr style=\"text-align: right;\">\n",
       "      <th></th>\n",
       "      <th>actor</th>\n",
       "      <th>movie_or_TV_name</th>\n",
       "    </tr>\n",
       "  </thead>\n",
       "  <tbody>\n",
       "    <tr>\n",
       "      <th>0</th>\n",
       "      <td>Ty Simpkins</td>\n",
       "      <td>Growing up Gorman</td>\n",
       "    </tr>\n",
       "    <tr>\n",
       "      <th>1</th>\n",
       "      <td>Ty Simpkins</td>\n",
       "      <td>The Re-Education of Molly Singer</td>\n",
       "    </tr>\n",
       "    <tr>\n",
       "      <th>2</th>\n",
       "      <td>Ty Simpkins</td>\n",
       "      <td>The Whale</td>\n",
       "    </tr>\n",
       "    <tr>\n",
       "      <th>3</th>\n",
       "      <td>Ty Simpkins</td>\n",
       "      <td>Where's Rose</td>\n",
       "    </tr>\n",
       "    <tr>\n",
       "      <th>4</th>\n",
       "      <td>Ty Simpkins</td>\n",
       "      <td>Chimerica</td>\n",
       "    </tr>\n",
       "  </tbody>\n",
       "</table>\n",
       "</div>"
      ],
      "text/plain": [
       "         actor                  movie_or_TV_name\n",
       "0  Ty Simpkins                 Growing up Gorman\n",
       "1  Ty Simpkins  The Re-Education of Molly Singer\n",
       "2  Ty Simpkins                         The Whale\n",
       "3  Ty Simpkins                      Where's Rose\n",
       "4  Ty Simpkins                         Chimerica"
      ]
     },
     "execution_count": 5,
     "metadata": {},
     "output_type": "execute_result"
    }
   ],
   "source": [
    "result.head()"
   ]
  },
  {
   "cell_type": "markdown",
   "id": "6bcf7de5",
   "metadata": {},
   "source": [
    "We use the method `value_counts()`. This method returns a Series containing counts of unique values in the dataframe."
   ]
  },
  {
   "cell_type": "code",
   "execution_count": 7,
   "id": "119c3182",
   "metadata": {},
   "outputs": [
    {
     "data": {
      "text/plain": [
       "movie_or_TV_name\n",
       "Avengers: Endgame         187\n",
       "Entertainment Tonight      90\n",
       "Avengers: Infinity War     74\n",
       "Celebrity Page             70\n",
       "Made in Hollywood          69\n",
       "dtype: int64"
      ]
     },
     "execution_count": 7,
     "metadata": {},
     "output_type": "execute_result"
    }
   ],
   "source": [
    "count = result.value_counts(subset = \"movie_or_TV_name\",\n",
    "                     sort = True,\n",
    "                     ascending = False)\n",
    "count.head()"
   ]
  },
  {
   "cell_type": "markdown",
   "id": "3fb1af40",
   "metadata": {},
   "source": [
    "Then, we format the Series into a dataframe, with column name specified."
   ]
  },
  {
   "cell_type": "code",
   "execution_count": 8,
   "id": "40d26bc9",
   "metadata": {},
   "outputs": [],
   "source": [
    "# series to dataframe\n",
    "df_recommend = count.to_frame(name = \"number of shared actors\")\n",
    "df_recommend = df_recommend.reset_index()"
   ]
  },
  {
   "cell_type": "markdown",
   "id": "8b05ea70",
   "metadata": {},
   "source": [
    "Here’s the dataframe I obtained for *Avengers: Endgame*. Of course, most shows will “share” the most actors with themselves."
   ]
  },
  {
   "cell_type": "code",
   "execution_count": 9,
   "id": "3c12de88",
   "metadata": {},
   "outputs": [
    {
     "data": {
      "text/html": [
       "<div>\n",
       "<style scoped>\n",
       "    .dataframe tbody tr th:only-of-type {\n",
       "        vertical-align: middle;\n",
       "    }\n",
       "\n",
       "    .dataframe tbody tr th {\n",
       "        vertical-align: top;\n",
       "    }\n",
       "\n",
       "    .dataframe thead th {\n",
       "        text-align: right;\n",
       "    }\n",
       "</style>\n",
       "<table border=\"1\" class=\"dataframe\">\n",
       "  <thead>\n",
       "    <tr style=\"text-align: right;\">\n",
       "      <th></th>\n",
       "      <th>movie_or_TV_name</th>\n",
       "      <th>number of shared actors</th>\n",
       "    </tr>\n",
       "  </thead>\n",
       "  <tbody>\n",
       "    <tr>\n",
       "      <th>0</th>\n",
       "      <td>Avengers: Endgame</td>\n",
       "      <td>187</td>\n",
       "    </tr>\n",
       "    <tr>\n",
       "      <th>1</th>\n",
       "      <td>Entertainment Tonight</td>\n",
       "      <td>90</td>\n",
       "    </tr>\n",
       "    <tr>\n",
       "      <th>2</th>\n",
       "      <td>Avengers: Infinity War</td>\n",
       "      <td>74</td>\n",
       "    </tr>\n",
       "    <tr>\n",
       "      <th>3</th>\n",
       "      <td>Celebrity Page</td>\n",
       "      <td>70</td>\n",
       "    </tr>\n",
       "    <tr>\n",
       "      <th>4</th>\n",
       "      <td>Made in Hollywood</td>\n",
       "      <td>69</td>\n",
       "    </tr>\n",
       "    <tr>\n",
       "      <th>...</th>\n",
       "      <td>...</td>\n",
       "      <td>...</td>\n",
       "    </tr>\n",
       "    <tr>\n",
       "      <th>9330</th>\n",
       "      <td>James Bond's 'Spectre' with Jonathan Ross</td>\n",
       "      <td>1</td>\n",
       "    </tr>\n",
       "    <tr>\n",
       "      <th>9331</th>\n",
       "      <td>James Blake: My Willing Heart</td>\n",
       "      <td>1</td>\n",
       "    </tr>\n",
       "    <tr>\n",
       "      <th>9332</th>\n",
       "      <td>Jaguar: Rendezvous</td>\n",
       "      <td>1</td>\n",
       "    </tr>\n",
       "    <tr>\n",
       "      <th>9333</th>\n",
       "      <td>Jackman</td>\n",
       "      <td>1</td>\n",
       "    </tr>\n",
       "    <tr>\n",
       "      <th>9334</th>\n",
       "      <td>Überleben an der Scheidungsfront</td>\n",
       "      <td>1</td>\n",
       "    </tr>\n",
       "  </tbody>\n",
       "</table>\n",
       "<p>9335 rows × 2 columns</p>\n",
       "</div>"
      ],
      "text/plain": [
       "                               movie_or_TV_name  number of shared actors\n",
       "0                             Avengers: Endgame                      187\n",
       "1                         Entertainment Tonight                       90\n",
       "2                        Avengers: Infinity War                       74\n",
       "3                                Celebrity Page                       70\n",
       "4                             Made in Hollywood                       69\n",
       "...                                         ...                      ...\n",
       "9330  James Bond's 'Spectre' with Jonathan Ross                        1\n",
       "9331              James Blake: My Willing Heart                        1\n",
       "9332                         Jaguar: Rendezvous                        1\n",
       "9333                                    Jackman                        1\n",
       "9334           Überleben an der Scheidungsfront                        1\n",
       "\n",
       "[9335 rows x 2 columns]"
      ]
     },
     "execution_count": 9,
     "metadata": {},
     "output_type": "execute_result"
    }
   ],
   "source": [
    "# df_recommend inspection\n",
    "df_recommend"
   ]
  },
  {
   "cell_type": "markdown",
   "id": "2305ec38",
   "metadata": {},
   "source": [
    "Then, we create a plot to visualize top 10 movie or TV shows sharing the most same actors. We use `plotly` to help create an interactive plot."
   ]
  },
  {
   "cell_type": "code",
   "execution_count": 13,
   "id": "fd94e569",
   "metadata": {},
   "outputs": [],
   "source": [
    "from plotly import express as px\n",
    "from matplotlib import pyplot as plt\n",
    "from plotly.io import write_html"
   ]
  },
  {
   "cell_type": "markdown",
   "id": "b5bd33db",
   "metadata": {},
   "source": [
    "First, we want to extract the first 10 lines of the dataframe to prepare for the plot."
   ]
  },
  {
   "cell_type": "code",
   "execution_count": 14,
   "id": "e693a160",
   "metadata": {},
   "outputs": [],
   "source": [
    "df_plot = df_recommend.head(10)"
   ]
  },
  {
   "cell_type": "markdown",
   "id": "d42f0ca8",
   "metadata": {},
   "source": [
    "Then, we create the scatterplot with the dataframe `df_plot`. The `color` depends on the `number of shared actors`."
   ]
  },
  {
   "cell_type": "code",
   "execution_count": 15,
   "id": "8b39bf8d",
   "metadata": {},
   "outputs": [],
   "source": [
    "fig = px.scatter(df_plot,\n",
    "                 x = \"movie_or_TV_name\",\n",
    "                 y = \"number of shared actors\", \n",
    "                 color = \"number of shared actors\",\n",
    "                 color_continuous_midpoint = 0,\n",
    "                 title = \"Scatterplot visualizing movies with shared actors\")\n",
    "    \n",
    "write_html(fig, \"movie_scatter.html\")"
   ]
  }
 ],
 "metadata": {
  "kernelspec": {
   "display_name": "Python 3",
   "language": "python",
   "name": "python3"
  },
  "language_info": {
   "codemirror_mode": {
    "name": "ipython",
    "version": 3
   },
   "file_extension": ".py",
   "mimetype": "text/x-python",
   "name": "python",
   "nbconvert_exporter": "python",
   "pygments_lexer": "ipython3",
   "version": "3.8.8"
  }
 },
 "nbformat": 4,
 "nbformat_minor": 5
}
